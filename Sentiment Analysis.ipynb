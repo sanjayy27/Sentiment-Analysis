{
 "cells": [
  {
   "cell_type": "code",
   "execution_count": 29,
   "id": "85082edb",
   "metadata": {},
   "outputs": [],
   "source": [
    "#importing all required libraries\n",
    "import random\n",
    "import numpy as np\n",
    "import pandas as pd\n",
    "from sklearn import svm\n",
    "from sklearn.model_selection import train_test_split\n",
    "from sklearn.metrics import classification_report\n",
    "from sklearn.feature_extraction.text import CountVectorizer"
   ]
  },
  {
   "cell_type": "markdown",
   "id": "477214ea",
   "metadata": {},
   "source": [
    "## Accessing Dataset"
   ]
  },
  {
   "cell_type": "code",
   "execution_count": 2,
   "id": "4308f7b2",
   "metadata": {},
   "outputs": [
    {
     "data": {
      "text/html": [
       "<div>\n",
       "<style scoped>\n",
       "    .dataframe tbody tr th:only-of-type {\n",
       "        vertical-align: middle;\n",
       "    }\n",
       "\n",
       "    .dataframe tbody tr th {\n",
       "        vertical-align: top;\n",
       "    }\n",
       "\n",
       "    .dataframe thead th {\n",
       "        text-align: right;\n",
       "    }\n",
       "</style>\n",
       "<table border=\"1\" class=\"dataframe\">\n",
       "  <thead>\n",
       "    <tr style=\"text-align: right;\">\n",
       "      <th></th>\n",
       "      <th>ratings</th>\n",
       "      <th>title</th>\n",
       "      <th>review</th>\n",
       "    </tr>\n",
       "  </thead>\n",
       "  <tbody>\n",
       "    <tr>\n",
       "      <th>0</th>\n",
       "      <td>2</td>\n",
       "      <td>Stuning even for the non-gamer</td>\n",
       "      <td>This sound track was beautiful! It paints the ...</td>\n",
       "    </tr>\n",
       "    <tr>\n",
       "      <th>1</th>\n",
       "      <td>2</td>\n",
       "      <td>The best soundtrack ever to anything.</td>\n",
       "      <td>I'm reading a lot of reviews saying that this ...</td>\n",
       "    </tr>\n",
       "    <tr>\n",
       "      <th>2</th>\n",
       "      <td>2</td>\n",
       "      <td>Amazing!</td>\n",
       "      <td>This soundtrack is my favorite music of all ti...</td>\n",
       "    </tr>\n",
       "    <tr>\n",
       "      <th>3</th>\n",
       "      <td>2</td>\n",
       "      <td>Excellent Soundtrack</td>\n",
       "      <td>I truly like this soundtrack and I enjoy video...</td>\n",
       "    </tr>\n",
       "    <tr>\n",
       "      <th>4</th>\n",
       "      <td>2</td>\n",
       "      <td>Remember, Pull Your Jaw Off The Floor After He...</td>\n",
       "      <td>If you've played the game, you know how divine...</td>\n",
       "    </tr>\n",
       "    <tr>\n",
       "      <th>...</th>\n",
       "      <td>...</td>\n",
       "      <td>...</td>\n",
       "      <td>...</td>\n",
       "    </tr>\n",
       "    <tr>\n",
       "      <th>3599995</th>\n",
       "      <td>1</td>\n",
       "      <td>Don't do it!!</td>\n",
       "      <td>The high chair looks great when it first comes...</td>\n",
       "    </tr>\n",
       "    <tr>\n",
       "      <th>3599996</th>\n",
       "      <td>1</td>\n",
       "      <td>Looks nice, low functionality</td>\n",
       "      <td>I have used this highchair for 2 kids now and ...</td>\n",
       "    </tr>\n",
       "    <tr>\n",
       "      <th>3599997</th>\n",
       "      <td>1</td>\n",
       "      <td>compact, but hard to clean</td>\n",
       "      <td>We have a small house, and really wanted two o...</td>\n",
       "    </tr>\n",
       "    <tr>\n",
       "      <th>3599998</th>\n",
       "      <td>1</td>\n",
       "      <td>what is it saying?</td>\n",
       "      <td>not sure what this book is supposed to be. It ...</td>\n",
       "    </tr>\n",
       "    <tr>\n",
       "      <th>3599999</th>\n",
       "      <td>2</td>\n",
       "      <td>Makes My Blood Run Red-White-And-Blue</td>\n",
       "      <td>I agree that every American should read this b...</td>\n",
       "    </tr>\n",
       "  </tbody>\n",
       "</table>\n",
       "<p>3600000 rows × 3 columns</p>\n",
       "</div>"
      ],
      "text/plain": [
       "         ratings                                              title  \\\n",
       "0              2                     Stuning even for the non-gamer   \n",
       "1              2              The best soundtrack ever to anything.   \n",
       "2              2                                           Amazing!   \n",
       "3              2                               Excellent Soundtrack   \n",
       "4              2  Remember, Pull Your Jaw Off The Floor After He...   \n",
       "...          ...                                                ...   \n",
       "3599995        1                                      Don't do it!!   \n",
       "3599996        1                      Looks nice, low functionality   \n",
       "3599997        1                         compact, but hard to clean   \n",
       "3599998        1                                 what is it saying?   \n",
       "3599999        2              Makes My Blood Run Red-White-And-Blue   \n",
       "\n",
       "                                                    review  \n",
       "0        This sound track was beautiful! It paints the ...  \n",
       "1        I'm reading a lot of reviews saying that this ...  \n",
       "2        This soundtrack is my favorite music of all ti...  \n",
       "3        I truly like this soundtrack and I enjoy video...  \n",
       "4        If you've played the game, you know how divine...  \n",
       "...                                                    ...  \n",
       "3599995  The high chair looks great when it first comes...  \n",
       "3599996  I have used this highchair for 2 kids now and ...  \n",
       "3599997  We have a small house, and really wanted two o...  \n",
       "3599998  not sure what this book is supposed to be. It ...  \n",
       "3599999  I agree that every American should read this b...  \n",
       "\n",
       "[3600000 rows x 3 columns]"
      ]
     },
     "execution_count": 2,
     "metadata": {},
     "output_type": "execute_result"
    }
   ],
   "source": [
    "reviews=pd.read_csv('Review.csv',names=['ratings','title','review'])\n",
    "reviews"
   ]
  },
  {
   "cell_type": "markdown",
   "id": "b00b4a08",
   "metadata": {},
   "source": [
    "## Accessing the data"
   ]
  },
  {
   "cell_type": "code",
   "execution_count": 3,
   "id": "cd6554e9",
   "metadata": {},
   "outputs": [
    {
     "data": {
      "text/html": [
       "<div>\n",
       "<style scoped>\n",
       "    .dataframe tbody tr th:only-of-type {\n",
       "        vertical-align: middle;\n",
       "    }\n",
       "\n",
       "    .dataframe tbody tr th {\n",
       "        vertical-align: top;\n",
       "    }\n",
       "\n",
       "    .dataframe thead th {\n",
       "        text-align: right;\n",
       "    }\n",
       "</style>\n",
       "<table border=\"1\" class=\"dataframe\">\n",
       "  <thead>\n",
       "    <tr style=\"text-align: right;\">\n",
       "      <th></th>\n",
       "      <th>title</th>\n",
       "      <th>review</th>\n",
       "    </tr>\n",
       "    <tr>\n",
       "      <th>ratings</th>\n",
       "      <th></th>\n",
       "      <th></th>\n",
       "    </tr>\n",
       "  </thead>\n",
       "  <tbody>\n",
       "    <tr>\n",
       "      <th>1</th>\n",
       "      <td>1799958</td>\n",
       "      <td>1800000</td>\n",
       "    </tr>\n",
       "    <tr>\n",
       "      <th>2</th>\n",
       "      <td>1799965</td>\n",
       "      <td>1800000</td>\n",
       "    </tr>\n",
       "  </tbody>\n",
       "</table>\n",
       "</div>"
      ],
      "text/plain": [
       "           title   review\n",
       "ratings                  \n",
       "1        1799958  1800000\n",
       "2        1799965  1800000"
      ]
     },
     "execution_count": 3,
     "metadata": {},
     "output_type": "execute_result"
    }
   ],
   "source": [
    "reviews.groupby('ratings').count()"
   ]
  },
  {
   "cell_type": "markdown",
   "id": "1b5189d6",
   "metadata": {},
   "source": [
    "## Separating Positive and Negative reviews"
   ]
  },
  {
   "cell_type": "code",
   "execution_count": 4,
   "id": "e52cb1a4",
   "metadata": {},
   "outputs": [],
   "source": [
    "Positive=reviews.drop(reviews[reviews['ratings'] == 1].index)"
   ]
  },
  {
   "cell_type": "code",
   "execution_count": 5,
   "id": "1be1d5dc",
   "metadata": {},
   "outputs": [],
   "source": [
    "Negative=reviews.drop(reviews[reviews['ratings'] == 2].index)"
   ]
  },
  {
   "cell_type": "markdown",
   "id": "bf158025",
   "metadata": {},
   "source": [
    "## Using numpy and generating dataset of total 10000 dataset(Positive=5000 and Negative=5000)"
   ]
  },
  {
   "cell_type": "code",
   "execution_count": 6,
   "id": "49b38745",
   "metadata": {},
   "outputs": [
    {
     "name": "stdout",
     "output_type": "stream",
     "text": [
      "Wall time: 397 ms\n"
     ]
    }
   ],
   "source": [
    "%%time\n",
    "np.random.seed(10)\n",
    "remove=1795000\n",
    "indice=np.random.choice(Positive.index,remove,replace=False)\n",
    "new_positive=Positive.drop(indice)"
   ]
  },
  {
   "cell_type": "code",
   "execution_count": 7,
   "id": "639f8f17",
   "metadata": {},
   "outputs": [
    {
     "name": "stdout",
     "output_type": "stream",
     "text": [
      "Wall time: 397 ms\n"
     ]
    }
   ],
   "source": [
    "%%time\n",
    "np.random.seed(10)\n",
    "remove=1795000\n",
    "indice=np.random.choice(Negative.index,remove,replace=False)\n",
    "new_negative=Negative.drop(indice)"
   ]
  },
  {
   "cell_type": "markdown",
   "id": "599d131e",
   "metadata": {},
   "source": [
    "## Concating both Positive and Negative datasets into one dataset"
   ]
  },
  {
   "cell_type": "code",
   "execution_count": 8,
   "id": "73f189bf",
   "metadata": {},
   "outputs": [],
   "source": [
    "reviews_subset=pd.concat([new_positive, new_negative], axis=0)"
   ]
  },
  {
   "cell_type": "code",
   "execution_count": 9,
   "id": "2ef58b01",
   "metadata": {},
   "outputs": [
    {
     "data": {
      "text/html": [
       "<div>\n",
       "<style scoped>\n",
       "    .dataframe tbody tr th:only-of-type {\n",
       "        vertical-align: middle;\n",
       "    }\n",
       "\n",
       "    .dataframe tbody tr th {\n",
       "        vertical-align: top;\n",
       "    }\n",
       "\n",
       "    .dataframe thead th {\n",
       "        text-align: right;\n",
       "    }\n",
       "</style>\n",
       "<table border=\"1\" class=\"dataframe\">\n",
       "  <thead>\n",
       "    <tr style=\"text-align: right;\">\n",
       "      <th></th>\n",
       "      <th>title</th>\n",
       "      <th>review</th>\n",
       "    </tr>\n",
       "    <tr>\n",
       "      <th>ratings</th>\n",
       "      <th></th>\n",
       "      <th></th>\n",
       "    </tr>\n",
       "  </thead>\n",
       "  <tbody>\n",
       "    <tr>\n",
       "      <th>1</th>\n",
       "      <td>5000</td>\n",
       "      <td>5000</td>\n",
       "    </tr>\n",
       "    <tr>\n",
       "      <th>2</th>\n",
       "      <td>5000</td>\n",
       "      <td>5000</td>\n",
       "    </tr>\n",
       "  </tbody>\n",
       "</table>\n",
       "</div>"
      ],
      "text/plain": [
       "         title  review\n",
       "ratings               \n",
       "1         5000    5000\n",
       "2         5000    5000"
      ]
     },
     "execution_count": 9,
     "metadata": {},
     "output_type": "execute_result"
    }
   ],
   "source": [
    "reviews_subset.groupby('ratings').count()"
   ]
  },
  {
   "cell_type": "markdown",
   "id": "b5214410",
   "metadata": {},
   "source": [
    "## Resetting Index"
   ]
  },
  {
   "cell_type": "code",
   "execution_count": 10,
   "id": "456270d5",
   "metadata": {},
   "outputs": [],
   "source": [
    "reviews_subset.reset_index(inplace=True)"
   ]
  },
  {
   "cell_type": "markdown",
   "id": "598f9e5e",
   "metadata": {},
   "source": [
    "## Dropping old index"
   ]
  },
  {
   "cell_type": "code",
   "execution_count": 11,
   "id": "11285105",
   "metadata": {},
   "outputs": [],
   "source": [
    "reviews_subset.drop('index',axis='columns',inplace=True)"
   ]
  },
  {
   "cell_type": "code",
   "execution_count": 12,
   "id": "fbab3eda",
   "metadata": {},
   "outputs": [
    {
     "data": {
      "text/html": [
       "<div>\n",
       "<style scoped>\n",
       "    .dataframe tbody tr th:only-of-type {\n",
       "        vertical-align: middle;\n",
       "    }\n",
       "\n",
       "    .dataframe tbody tr th {\n",
       "        vertical-align: top;\n",
       "    }\n",
       "\n",
       "    .dataframe thead th {\n",
       "        text-align: right;\n",
       "    }\n",
       "</style>\n",
       "<table border=\"1\" class=\"dataframe\">\n",
       "  <thead>\n",
       "    <tr style=\"text-align: right;\">\n",
       "      <th></th>\n",
       "      <th>ratings</th>\n",
       "      <th>title</th>\n",
       "      <th>review</th>\n",
       "    </tr>\n",
       "  </thead>\n",
       "  <tbody>\n",
       "    <tr>\n",
       "      <th>0</th>\n",
       "      <td>2</td>\n",
       "      <td>Belva Plain has done it again - another great ...</td>\n",
       "      <td>Once again, Belva Plain has written a compelli...</td>\n",
       "    </tr>\n",
       "    <tr>\n",
       "      <th>1</th>\n",
       "      <td>2</td>\n",
       "      <td>Memoir or Memory?</td>\n",
       "      <td>Although Derrida can be difficult to follow so...</td>\n",
       "    </tr>\n",
       "    <tr>\n",
       "      <th>2</th>\n",
       "      <td>2</td>\n",
       "      <td>Learn what children really loose when they wat...</td>\n",
       "      <td>This is the classic book on how television aff...</td>\n",
       "    </tr>\n",
       "    <tr>\n",
       "      <th>3</th>\n",
       "      <td>2</td>\n",
       "      <td>scary</td>\n",
       "      <td>This book was great.It was scary at some point...</td>\n",
       "    </tr>\n",
       "    <tr>\n",
       "      <th>4</th>\n",
       "      <td>2</td>\n",
       "      <td>Paxton Quigley is a realist</td>\n",
       "      <td>When women ask me about safety and firearms, t...</td>\n",
       "    </tr>\n",
       "    <tr>\n",
       "      <th>...</th>\n",
       "      <td>...</td>\n",
       "      <td>...</td>\n",
       "      <td>...</td>\n",
       "    </tr>\n",
       "    <tr>\n",
       "      <th>9995</th>\n",
       "      <td>1</td>\n",
       "      <td>Not to good!</td>\n",
       "      <td>This toy was horribe to put together, after ab...</td>\n",
       "    </tr>\n",
       "    <tr>\n",
       "      <th>9996</th>\n",
       "      <td>1</td>\n",
       "      <td>Ferris Wheel Does NOT Work</td>\n",
       "      <td>The cars continually fall off the ferris wheel...</td>\n",
       "    </tr>\n",
       "    <tr>\n",
       "      <th>9997</th>\n",
       "      <td>1</td>\n",
       "      <td>P is for Psycho</td>\n",
       "      <td>Flipping through this book I found it to be ye...</td>\n",
       "    </tr>\n",
       "    <tr>\n",
       "      <th>9998</th>\n",
       "      <td>1</td>\n",
       "      <td>HUGE Disappointment!!!!</td>\n",
       "      <td>I would NOT recommend this DVD. It is a seriou...</td>\n",
       "    </tr>\n",
       "    <tr>\n",
       "      <th>9999</th>\n",
       "      <td>1</td>\n",
       "      <td>Maddening.</td>\n",
       "      <td>About the region problem, the best solution is...</td>\n",
       "    </tr>\n",
       "  </tbody>\n",
       "</table>\n",
       "<p>10000 rows × 3 columns</p>\n",
       "</div>"
      ],
      "text/plain": [
       "      ratings                                              title  \\\n",
       "0           2  Belva Plain has done it again - another great ...   \n",
       "1           2                                  Memoir or Memory?   \n",
       "2           2  Learn what children really loose when they wat...   \n",
       "3           2                                              scary   \n",
       "4           2                        Paxton Quigley is a realist   \n",
       "...       ...                                                ...   \n",
       "9995        1                                       Not to good!   \n",
       "9996        1                         Ferris Wheel Does NOT Work   \n",
       "9997        1                                    P is for Psycho   \n",
       "9998        1                            HUGE Disappointment!!!!   \n",
       "9999        1                                         Maddening.   \n",
       "\n",
       "                                                 review  \n",
       "0     Once again, Belva Plain has written a compelli...  \n",
       "1     Although Derrida can be difficult to follow so...  \n",
       "2     This is the classic book on how television aff...  \n",
       "3     This book was great.It was scary at some point...  \n",
       "4     When women ask me about safety and firearms, t...  \n",
       "...                                                 ...  \n",
       "9995  This toy was horribe to put together, after ab...  \n",
       "9996  The cars continually fall off the ferris wheel...  \n",
       "9997  Flipping through this book I found it to be ye...  \n",
       "9998  I would NOT recommend this DVD. It is a seriou...  \n",
       "9999  About the region problem, the best solution is...  \n",
       "\n",
       "[10000 rows x 3 columns]"
      ]
     },
     "execution_count": 12,
     "metadata": {},
     "output_type": "execute_result"
    }
   ],
   "source": [
    "reviews_subset"
   ]
  },
  {
   "cell_type": "markdown",
   "id": "7f9fac6f",
   "metadata": {},
   "source": [
    "## Creating a new column sentiment containing Positive and Negative "
   ]
  },
  {
   "cell_type": "code",
   "execution_count": 13,
   "id": "e85e7a3a",
   "metadata": {},
   "outputs": [],
   "source": [
    "reviews_subset['sentiment']=''\n",
    "for i in reviews_subset.index:\n",
    "    if reviews_subset.loc[i,'ratings']==2:\n",
    "        reviews_subset.loc[i,'sentiment']='POSITIVE'\n",
    "    else:\n",
    "        reviews_subset.loc[i,'sentiment']='NEGATIVE'"
   ]
  },
  {
   "cell_type": "code",
   "execution_count": 14,
   "id": "c6454e58",
   "metadata": {},
   "outputs": [
    {
     "data": {
      "text/html": [
       "<div>\n",
       "<style scoped>\n",
       "    .dataframe tbody tr th:only-of-type {\n",
       "        vertical-align: middle;\n",
       "    }\n",
       "\n",
       "    .dataframe tbody tr th {\n",
       "        vertical-align: top;\n",
       "    }\n",
       "\n",
       "    .dataframe thead th {\n",
       "        text-align: right;\n",
       "    }\n",
       "</style>\n",
       "<table border=\"1\" class=\"dataframe\">\n",
       "  <thead>\n",
       "    <tr style=\"text-align: right;\">\n",
       "      <th></th>\n",
       "      <th>ratings</th>\n",
       "      <th>title</th>\n",
       "      <th>review</th>\n",
       "      <th>sentiment</th>\n",
       "    </tr>\n",
       "  </thead>\n",
       "  <tbody>\n",
       "    <tr>\n",
       "      <th>0</th>\n",
       "      <td>2</td>\n",
       "      <td>Belva Plain has done it again - another great ...</td>\n",
       "      <td>Once again, Belva Plain has written a compelli...</td>\n",
       "      <td>POSITIVE</td>\n",
       "    </tr>\n",
       "    <tr>\n",
       "      <th>1</th>\n",
       "      <td>2</td>\n",
       "      <td>Memoir or Memory?</td>\n",
       "      <td>Although Derrida can be difficult to follow so...</td>\n",
       "      <td>POSITIVE</td>\n",
       "    </tr>\n",
       "    <tr>\n",
       "      <th>2</th>\n",
       "      <td>2</td>\n",
       "      <td>Learn what children really loose when they wat...</td>\n",
       "      <td>This is the classic book on how television aff...</td>\n",
       "      <td>POSITIVE</td>\n",
       "    </tr>\n",
       "    <tr>\n",
       "      <th>3</th>\n",
       "      <td>2</td>\n",
       "      <td>scary</td>\n",
       "      <td>This book was great.It was scary at some point...</td>\n",
       "      <td>POSITIVE</td>\n",
       "    </tr>\n",
       "    <tr>\n",
       "      <th>4</th>\n",
       "      <td>2</td>\n",
       "      <td>Paxton Quigley is a realist</td>\n",
       "      <td>When women ask me about safety and firearms, t...</td>\n",
       "      <td>POSITIVE</td>\n",
       "    </tr>\n",
       "    <tr>\n",
       "      <th>...</th>\n",
       "      <td>...</td>\n",
       "      <td>...</td>\n",
       "      <td>...</td>\n",
       "      <td>...</td>\n",
       "    </tr>\n",
       "    <tr>\n",
       "      <th>9995</th>\n",
       "      <td>1</td>\n",
       "      <td>Not to good!</td>\n",
       "      <td>This toy was horribe to put together, after ab...</td>\n",
       "      <td>NEGATIVE</td>\n",
       "    </tr>\n",
       "    <tr>\n",
       "      <th>9996</th>\n",
       "      <td>1</td>\n",
       "      <td>Ferris Wheel Does NOT Work</td>\n",
       "      <td>The cars continually fall off the ferris wheel...</td>\n",
       "      <td>NEGATIVE</td>\n",
       "    </tr>\n",
       "    <tr>\n",
       "      <th>9997</th>\n",
       "      <td>1</td>\n",
       "      <td>P is for Psycho</td>\n",
       "      <td>Flipping through this book I found it to be ye...</td>\n",
       "      <td>NEGATIVE</td>\n",
       "    </tr>\n",
       "    <tr>\n",
       "      <th>9998</th>\n",
       "      <td>1</td>\n",
       "      <td>HUGE Disappointment!!!!</td>\n",
       "      <td>I would NOT recommend this DVD. It is a seriou...</td>\n",
       "      <td>NEGATIVE</td>\n",
       "    </tr>\n",
       "    <tr>\n",
       "      <th>9999</th>\n",
       "      <td>1</td>\n",
       "      <td>Maddening.</td>\n",
       "      <td>About the region problem, the best solution is...</td>\n",
       "      <td>NEGATIVE</td>\n",
       "    </tr>\n",
       "  </tbody>\n",
       "</table>\n",
       "<p>10000 rows × 4 columns</p>\n",
       "</div>"
      ],
      "text/plain": [
       "      ratings                                              title  \\\n",
       "0           2  Belva Plain has done it again - another great ...   \n",
       "1           2                                  Memoir or Memory?   \n",
       "2           2  Learn what children really loose when they wat...   \n",
       "3           2                                              scary   \n",
       "4           2                        Paxton Quigley is a realist   \n",
       "...       ...                                                ...   \n",
       "9995        1                                       Not to good!   \n",
       "9996        1                         Ferris Wheel Does NOT Work   \n",
       "9997        1                                    P is for Psycho   \n",
       "9998        1                            HUGE Disappointment!!!!   \n",
       "9999        1                                         Maddening.   \n",
       "\n",
       "                                                 review sentiment  \n",
       "0     Once again, Belva Plain has written a compelli...  POSITIVE  \n",
       "1     Although Derrida can be difficult to follow so...  POSITIVE  \n",
       "2     This is the classic book on how television aff...  POSITIVE  \n",
       "3     This book was great.It was scary at some point...  POSITIVE  \n",
       "4     When women ask me about safety and firearms, t...  POSITIVE  \n",
       "...                                                 ...       ...  \n",
       "9995  This toy was horribe to put together, after ab...  NEGATIVE  \n",
       "9996  The cars continually fall off the ferris wheel...  NEGATIVE  \n",
       "9997  Flipping through this book I found it to be ye...  NEGATIVE  \n",
       "9998  I would NOT recommend this DVD. It is a seriou...  NEGATIVE  \n",
       "9999  About the region problem, the best solution is...  NEGATIVE  \n",
       "\n",
       "[10000 rows x 4 columns]"
      ]
     },
     "execution_count": 14,
     "metadata": {},
     "output_type": "execute_result"
    }
   ],
   "source": [
    "reviews_subset"
   ]
  },
  {
   "cell_type": "markdown",
   "id": "239019c2",
   "metadata": {},
   "source": [
    "## Forming a single column of review by adding title column and existing review column together"
   ]
  },
  {
   "cell_type": "code",
   "execution_count": 15,
   "id": "ef5e3797",
   "metadata": {},
   "outputs": [],
   "source": [
    "reviews_subset['review']=reviews_subset['title']+reviews_subset['review']"
   ]
  },
  {
   "cell_type": "code",
   "execution_count": 16,
   "id": "3e39ed1d",
   "metadata": {},
   "outputs": [
    {
     "data": {
      "text/html": [
       "<div>\n",
       "<style scoped>\n",
       "    .dataframe tbody tr th:only-of-type {\n",
       "        vertical-align: middle;\n",
       "    }\n",
       "\n",
       "    .dataframe tbody tr th {\n",
       "        vertical-align: top;\n",
       "    }\n",
       "\n",
       "    .dataframe thead th {\n",
       "        text-align: right;\n",
       "    }\n",
       "</style>\n",
       "<table border=\"1\" class=\"dataframe\">\n",
       "  <thead>\n",
       "    <tr style=\"text-align: right;\">\n",
       "      <th></th>\n",
       "      <th>ratings</th>\n",
       "      <th>title</th>\n",
       "      <th>review</th>\n",
       "      <th>sentiment</th>\n",
       "    </tr>\n",
       "  </thead>\n",
       "  <tbody>\n",
       "    <tr>\n",
       "      <th>0</th>\n",
       "      <td>2</td>\n",
       "      <td>Belva Plain has done it again - another great ...</td>\n",
       "      <td>Belva Plain has done it again - another great ...</td>\n",
       "      <td>POSITIVE</td>\n",
       "    </tr>\n",
       "    <tr>\n",
       "      <th>1</th>\n",
       "      <td>2</td>\n",
       "      <td>Memoir or Memory?</td>\n",
       "      <td>Memoir or Memory?Although Derrida can be diffi...</td>\n",
       "      <td>POSITIVE</td>\n",
       "    </tr>\n",
       "    <tr>\n",
       "      <th>2</th>\n",
       "      <td>2</td>\n",
       "      <td>Learn what children really loose when they wat...</td>\n",
       "      <td>Learn what children really loose when they wat...</td>\n",
       "      <td>POSITIVE</td>\n",
       "    </tr>\n",
       "    <tr>\n",
       "      <th>3</th>\n",
       "      <td>2</td>\n",
       "      <td>scary</td>\n",
       "      <td>scaryThis book was great.It was scary at some ...</td>\n",
       "      <td>POSITIVE</td>\n",
       "    </tr>\n",
       "    <tr>\n",
       "      <th>4</th>\n",
       "      <td>2</td>\n",
       "      <td>Paxton Quigley is a realist</td>\n",
       "      <td>Paxton Quigley is a realistWhen women ask me a...</td>\n",
       "      <td>POSITIVE</td>\n",
       "    </tr>\n",
       "  </tbody>\n",
       "</table>\n",
       "</div>"
      ],
      "text/plain": [
       "   ratings                                              title  \\\n",
       "0        2  Belva Plain has done it again - another great ...   \n",
       "1        2                                  Memoir or Memory?   \n",
       "2        2  Learn what children really loose when they wat...   \n",
       "3        2                                              scary   \n",
       "4        2                        Paxton Quigley is a realist   \n",
       "\n",
       "                                              review sentiment  \n",
       "0  Belva Plain has done it again - another great ...  POSITIVE  \n",
       "1  Memoir or Memory?Although Derrida can be diffi...  POSITIVE  \n",
       "2  Learn what children really loose when they wat...  POSITIVE  \n",
       "3  scaryThis book was great.It was scary at some ...  POSITIVE  \n",
       "4  Paxton Quigley is a realistWhen women ask me a...  POSITIVE  "
      ]
     },
     "execution_count": 16,
     "metadata": {},
     "output_type": "execute_result"
    }
   ],
   "source": [
    "reviews_subset.head()"
   ]
  },
  {
   "cell_type": "markdown",
   "id": "d447e6f4",
   "metadata": {},
   "source": [
    "## Dropping old title column"
   ]
  },
  {
   "cell_type": "code",
   "execution_count": 17,
   "id": "da355a1d",
   "metadata": {},
   "outputs": [],
   "source": [
    "reviews_subset.drop('title',axis='columns',inplace=True)"
   ]
  },
  {
   "cell_type": "markdown",
   "id": "3e0bcab1",
   "metadata": {},
   "source": [
    "## Checking data for NaN values "
   ]
  },
  {
   "cell_type": "code",
   "execution_count": 18,
   "id": "5b6d086b",
   "metadata": {},
   "outputs": [
    {
     "data": {
      "text/plain": [
       "ratings      0\n",
       "review       0\n",
       "sentiment    0\n",
       "dtype: int64"
      ]
     },
     "execution_count": 18,
     "metadata": {},
     "output_type": "execute_result"
    }
   ],
   "source": [
    "reviews_subset.isna().sum()"
   ]
  },
  {
   "cell_type": "code",
   "execution_count": 19,
   "id": "c515ed8f",
   "metadata": {},
   "outputs": [],
   "source": [
    "reviews_subset.to_csv('reviews.csv')"
   ]
  },
  {
   "cell_type": "markdown",
   "id": "88cc6c9d",
   "metadata": {},
   "source": [
    "## Splitting dataset into train and test dataset using train_test_split method.This is convenient to test the model with datasets not seen by the model"
   ]
  },
  {
   "cell_type": "code",
   "execution_count": 20,
   "id": "4d0e6b9f",
   "metadata": {},
   "outputs": [],
   "source": [
    "x_train,x_test,y_train,y_test=train_test_split(reviews_subset['review'],reviews_subset['sentiment'],test_size=0.25)"
   ]
  },
  {
   "cell_type": "code",
   "execution_count": 21,
   "id": "500a5608",
   "metadata": {},
   "outputs": [
    {
     "data": {
      "text/plain": [
       "2806    Nice Medium Duty CasterThe swiveling caster is...\n",
       "6794    Parents NightmareIn the beginning it was great...\n",
       "986     Very good reference book for any astrophotogra...\n",
       "4946    It's really coolThis figure was really cool. B...\n",
       "5459    Stopped Working After 9 MonthsThe monitor look...\n",
       "                              ...                        \n",
       "3702    DANCING ALL OVER THE NYPDThis book wasn't as g...\n",
       "1229    OMG ths was soooo good.im Sicilian although ra...\n",
       "7986    boring angel apocolypseThis game is very horri...\n",
       "8310    Horrible ProductI purchased this item with the...\n",
       "4802    beautifulthe Class Trip is silly. however The ...\n",
       "Name: review, Length: 7500, dtype: object"
      ]
     },
     "execution_count": 21,
     "metadata": {},
     "output_type": "execute_result"
    }
   ],
   "source": [
    "x_train"
   ]
  },
  {
   "cell_type": "code",
   "execution_count": 22,
   "id": "a2b5c9ff",
   "metadata": {},
   "outputs": [
    {
     "data": {
      "text/plain": [
       "2806    POSITIVE\n",
       "6794    NEGATIVE\n",
       "986     POSITIVE\n",
       "4946    POSITIVE\n",
       "5459    NEGATIVE\n",
       "          ...   \n",
       "3702    POSITIVE\n",
       "1229    POSITIVE\n",
       "7986    NEGATIVE\n",
       "8310    NEGATIVE\n",
       "4802    POSITIVE\n",
       "Name: sentiment, Length: 7500, dtype: object"
      ]
     },
     "execution_count": 22,
     "metadata": {},
     "output_type": "execute_result"
    }
   ],
   "source": [
    "y_train"
   ]
  },
  {
   "cell_type": "markdown",
   "id": "b885744c",
   "metadata": {},
   "source": [
    "## Converting string to binary form"
   ]
  },
  {
   "cell_type": "code",
   "execution_count": 23,
   "id": "b174b746",
   "metadata": {},
   "outputs": [],
   "source": [
    "cv=CountVectorizer()\n",
    "x_train_cv=cv.fit_transform(x_train.values)\n",
    "x_test_cv=cv.transform(x_test.values)"
   ]
  },
  {
   "cell_type": "markdown",
   "id": "7e5533f6",
   "metadata": {},
   "source": [
    "## Model Selection"
   ]
  },
  {
   "cell_type": "markdown",
   "id": "a13000c9",
   "metadata": {},
   "source": [
    "## Fitting the Model"
   ]
  },
  {
   "cell_type": "code",
   "execution_count": 24,
   "id": "9d103140",
   "metadata": {},
   "outputs": [
    {
     "data": {
      "text/plain": [
       "SVC(C=1000, gamma='auto', kernel='sigmoid')"
      ]
     },
     "execution_count": 24,
     "metadata": {},
     "output_type": "execute_result"
    }
   ],
   "source": [
    "models=svm.SVC(C=1000,kernel='sigmoid',gamma='auto')\n",
    "models.fit(x_train_cv,y_train)"
   ]
  },
  {
   "cell_type": "code",
   "execution_count": 25,
   "id": "04b1bfa5",
   "metadata": {},
   "outputs": [
    {
     "data": {
      "text/plain": [
       "0.8528"
      ]
     },
     "execution_count": 25,
     "metadata": {},
     "output_type": "execute_result"
    }
   ],
   "source": [
    "models.score(x_test_cv,y_test)"
   ]
  },
  {
   "cell_type": "code",
   "execution_count": 26,
   "id": "a55d05b3",
   "metadata": {},
   "outputs": [
    {
     "name": "stdout",
     "output_type": "stream",
     "text": [
      "              precision    recall  f1-score   support\n",
      "\n",
      "    NEGATIVE       0.87      0.84      0.85      1258\n",
      "    POSITIVE       0.84      0.87      0.85      1242\n",
      "\n",
      "    accuracy                           0.85      2500\n",
      "   macro avg       0.85      0.85      0.85      2500\n",
      "weighted avg       0.85      0.85      0.85      2500\n",
      "\n"
     ]
    }
   ],
   "source": [
    "y_pred=models.predict(x_test_cv)\n",
    "print(classification_report(y_test,y_pred))"
   ]
  },
  {
   "cell_type": "code",
   "execution_count": 27,
   "id": "e7068773",
   "metadata": {},
   "outputs": [
    {
     "data": {
      "text/plain": [
       "array(['POSITIVE', 'NEGATIVE', 'POSITIVE', 'POSITIVE'], dtype=object)"
      ]
     },
     "execution_count": 27,
     "metadata": {},
     "output_type": "execute_result"
    }
   ],
   "source": [
    "text=['i am happy','I hate this','This is good','Life is good']\n",
    "_vector = cv.transform(text)\n",
    "models.predict(_vector)"
   ]
  },
  {
   "cell_type": "code",
   "execution_count": 31,
   "id": "adb19eb5",
   "metadata": {},
   "outputs": [
    {
     "name": "stdout",
     "output_type": "stream",
     "text": [
      "Enter text:bad\n",
      "It sounds ['NEGATIVE']\n"
     ]
    }
   ],
   "source": [
    "Text=input('Enter text:')\n",
    "text_series=pd.Series(Text)\n",
    "_vector = cv.transform(text_series.values)\n",
    "print('It sounds',models.predict(_vector))"
   ]
  },
  {
   "cell_type": "code",
   "execution_count": null,
   "id": "cb966b64",
   "metadata": {},
   "outputs": [],
   "source": [
    "Text=input('Enter text:')\n",
    "text_series=pd.Series(Text)\n",
    "_vector = cv.transform(text_series.values)\n",
    "print('It sounds',models.predict(_vector))"
   ]
  }
 ],
 "metadata": {
  "kernelspec": {
   "display_name": "Python 3 (ipykernel)",
   "language": "python",
   "name": "python3"
  },
  "language_info": {
   "codemirror_mode": {
    "name": "ipython",
    "version": 3
   },
   "file_extension": ".py",
   "mimetype": "text/x-python",
   "name": "python",
   "nbconvert_exporter": "python",
   "pygments_lexer": "ipython3",
   "version": "3.9.7"
  }
 },
 "nbformat": 4,
 "nbformat_minor": 5
}
